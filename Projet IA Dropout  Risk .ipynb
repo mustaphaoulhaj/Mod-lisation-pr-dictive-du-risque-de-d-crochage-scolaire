{
 "cells": [
  {
   "cell_type": "code",
   "execution_count": 1,
   "id": "e0adc57a",
   "metadata": {},
   "outputs": [],
   "source": [
    "import pandas as pd"
   ]
  },
  {
   "cell_type": "code",
   "execution_count": 2,
   "id": "84144c86",
   "metadata": {},
   "outputs": [],
   "source": [
    "# Charger votre base de données existante à partir d'un fichier Excel\n",
    "data = pd.read_excel('C:/Users/Mus/Downloads/Data.xlsx')\n"
   ]
  },
  {
   "cell_type": "code",
   "execution_count": 3,
   "id": "6b59bb4b",
   "metadata": {},
   "outputs": [
    {
     "data": {
      "text/html": [
       "<div>\n",
       "<style scoped>\n",
       "    .dataframe tbody tr th:only-of-type {\n",
       "        vertical-align: middle;\n",
       "    }\n",
       "\n",
       "    .dataframe tbody tr th {\n",
       "        vertical-align: top;\n",
       "    }\n",
       "\n",
       "    .dataframe thead th {\n",
       "        text-align: right;\n",
       "    }\n",
       "</style>\n",
       "<table border=\"1\" class=\"dataframe\">\n",
       "  <thead>\n",
       "    <tr style=\"text-align: right;\">\n",
       "      <th></th>\n",
       "      <th>Code</th>\n",
       "      <th>Niveau</th>\n",
       "      <th>Régime</th>\n",
       "      <th>Sexe</th>\n",
       "      <th>Age</th>\n",
       "      <th>Annee_entree</th>\n",
       "      <th>International</th>\n",
       "      <th>Décrochage</th>\n",
       "      <th>Note_Moy</th>\n",
       "      <th>Nbr_absences</th>\n",
       "      <th>Nationalité</th>\n",
       "      <th>Boursier</th>\n",
       "      <th>Dernier_Diplome</th>\n",
       "      <th>Nbr_cours</th>\n",
       "      <th>SPE</th>\n",
       "    </tr>\n",
       "  </thead>\n",
       "  <tbody>\n",
       "    <tr>\n",
       "      <th>0</th>\n",
       "      <td>A01170</td>\n",
       "      <td>1</td>\n",
       "      <td>2</td>\n",
       "      <td>1</td>\n",
       "      <td>18</td>\n",
       "      <td>7</td>\n",
       "      <td>0</td>\n",
       "      <td>0</td>\n",
       "      <td>11.850000</td>\n",
       "      <td>3</td>\n",
       "      <td>1</td>\n",
       "      <td>1</td>\n",
       "      <td>1</td>\n",
       "      <td>30</td>\n",
       "      <td>1</td>\n",
       "    </tr>\n",
       "    <tr>\n",
       "      <th>1</th>\n",
       "      <td>A01280</td>\n",
       "      <td>1</td>\n",
       "      <td>2</td>\n",
       "      <td>1</td>\n",
       "      <td>18</td>\n",
       "      <td>7</td>\n",
       "      <td>0</td>\n",
       "      <td>0</td>\n",
       "      <td>11.850000</td>\n",
       "      <td>1</td>\n",
       "      <td>1</td>\n",
       "      <td>1</td>\n",
       "      <td>1</td>\n",
       "      <td>30</td>\n",
       "      <td>1</td>\n",
       "    </tr>\n",
       "    <tr>\n",
       "      <th>2</th>\n",
       "      <td>A01214</td>\n",
       "      <td>1</td>\n",
       "      <td>2</td>\n",
       "      <td>1</td>\n",
       "      <td>18</td>\n",
       "      <td>7</td>\n",
       "      <td>0</td>\n",
       "      <td>0</td>\n",
       "      <td>11.850000</td>\n",
       "      <td>1</td>\n",
       "      <td>0</td>\n",
       "      <td>1</td>\n",
       "      <td>1</td>\n",
       "      <td>30</td>\n",
       "      <td>1</td>\n",
       "    </tr>\n",
       "    <tr>\n",
       "      <th>3</th>\n",
       "      <td>A01173</td>\n",
       "      <td>1</td>\n",
       "      <td>2</td>\n",
       "      <td>2</td>\n",
       "      <td>18</td>\n",
       "      <td>7</td>\n",
       "      <td>0</td>\n",
       "      <td>0</td>\n",
       "      <td>11.850000</td>\n",
       "      <td>1</td>\n",
       "      <td>1</td>\n",
       "      <td>1</td>\n",
       "      <td>1</td>\n",
       "      <td>30</td>\n",
       "      <td>1</td>\n",
       "    </tr>\n",
       "    <tr>\n",
       "      <th>4</th>\n",
       "      <td>A01174</td>\n",
       "      <td>1</td>\n",
       "      <td>2</td>\n",
       "      <td>2</td>\n",
       "      <td>18</td>\n",
       "      <td>7</td>\n",
       "      <td>0</td>\n",
       "      <td>0</td>\n",
       "      <td>11.850000</td>\n",
       "      <td>1</td>\n",
       "      <td>1</td>\n",
       "      <td>1</td>\n",
       "      <td>1</td>\n",
       "      <td>30</td>\n",
       "      <td>1</td>\n",
       "    </tr>\n",
       "    <tr>\n",
       "      <th>...</th>\n",
       "      <td>...</td>\n",
       "      <td>...</td>\n",
       "      <td>...</td>\n",
       "      <td>...</td>\n",
       "      <td>...</td>\n",
       "      <td>...</td>\n",
       "      <td>...</td>\n",
       "      <td>...</td>\n",
       "      <td>...</td>\n",
       "      <td>...</td>\n",
       "      <td>...</td>\n",
       "      <td>...</td>\n",
       "      <td>...</td>\n",
       "      <td>...</td>\n",
       "      <td>...</td>\n",
       "    </tr>\n",
       "    <tr>\n",
       "      <th>405</th>\n",
       "      <td>A01094</td>\n",
       "      <td>5</td>\n",
       "      <td>1</td>\n",
       "      <td>2</td>\n",
       "      <td>25</td>\n",
       "      <td>6</td>\n",
       "      <td>0</td>\n",
       "      <td>0</td>\n",
       "      <td>14.425833</td>\n",
       "      <td>1</td>\n",
       "      <td>1</td>\n",
       "      <td>0</td>\n",
       "      <td>1</td>\n",
       "      <td>28</td>\n",
       "      <td>6</td>\n",
       "    </tr>\n",
       "    <tr>\n",
       "      <th>406</th>\n",
       "      <td>A01090</td>\n",
       "      <td>5</td>\n",
       "      <td>1</td>\n",
       "      <td>1</td>\n",
       "      <td>23</td>\n",
       "      <td>6</td>\n",
       "      <td>0</td>\n",
       "      <td>0</td>\n",
       "      <td>14.962976</td>\n",
       "      <td>1</td>\n",
       "      <td>1</td>\n",
       "      <td>0</td>\n",
       "      <td>1</td>\n",
       "      <td>29</td>\n",
       "      <td>7</td>\n",
       "    </tr>\n",
       "    <tr>\n",
       "      <th>407</th>\n",
       "      <td>A01155</td>\n",
       "      <td>5</td>\n",
       "      <td>1</td>\n",
       "      <td>2</td>\n",
       "      <td>22</td>\n",
       "      <td>3</td>\n",
       "      <td>0</td>\n",
       "      <td>0</td>\n",
       "      <td>16.024166</td>\n",
       "      <td>1</td>\n",
       "      <td>1</td>\n",
       "      <td>0</td>\n",
       "      <td>1</td>\n",
       "      <td>29</td>\n",
       "      <td>7</td>\n",
       "    </tr>\n",
       "    <tr>\n",
       "      <th>408</th>\n",
       "      <td>A00755</td>\n",
       "      <td>5</td>\n",
       "      <td>1</td>\n",
       "      <td>2</td>\n",
       "      <td>22</td>\n",
       "      <td>3</td>\n",
       "      <td>0</td>\n",
       "      <td>0</td>\n",
       "      <td>15.131547</td>\n",
       "      <td>1</td>\n",
       "      <td>1</td>\n",
       "      <td>0</td>\n",
       "      <td>1</td>\n",
       "      <td>29</td>\n",
       "      <td>7</td>\n",
       "    </tr>\n",
       "    <tr>\n",
       "      <th>409</th>\n",
       "      <td>A00655</td>\n",
       "      <td>5</td>\n",
       "      <td>1</td>\n",
       "      <td>2</td>\n",
       "      <td>23</td>\n",
       "      <td>2</td>\n",
       "      <td>0</td>\n",
       "      <td>0</td>\n",
       "      <td>14.377619</td>\n",
       "      <td>1</td>\n",
       "      <td>1</td>\n",
       "      <td>0</td>\n",
       "      <td>1</td>\n",
       "      <td>31</td>\n",
       "      <td>4</td>\n",
       "    </tr>\n",
       "  </tbody>\n",
       "</table>\n",
       "<p>410 rows × 15 columns</p>\n",
       "</div>"
      ],
      "text/plain": [
       "       Code  Niveau  Régime  Sexe  Age  Annee_entree  International  \\\n",
       "0    A01170       1       2     1   18             7              0   \n",
       "1    A01280       1       2     1   18             7              0   \n",
       "2    A01214       1       2     1   18             7              0   \n",
       "3    A01173       1       2     2   18             7              0   \n",
       "4    A01174       1       2     2   18             7              0   \n",
       "..      ...     ...     ...   ...  ...           ...            ...   \n",
       "405  A01094       5       1     2   25             6              0   \n",
       "406  A01090       5       1     1   23             6              0   \n",
       "407  A01155       5       1     2   22             3              0   \n",
       "408  A00755       5       1     2   22             3              0   \n",
       "409  A00655       5       1     2   23             2              0   \n",
       "\n",
       "     Décrochage   Note_Moy  Nbr_absences  Nationalité  Boursier  \\\n",
       "0             0  11.850000             3            1         1   \n",
       "1             0  11.850000             1            1         1   \n",
       "2             0  11.850000             1            0         1   \n",
       "3             0  11.850000             1            1         1   \n",
       "4             0  11.850000             1            1         1   \n",
       "..          ...        ...           ...          ...       ...   \n",
       "405           0  14.425833             1            1         0   \n",
       "406           0  14.962976             1            1         0   \n",
       "407           0  16.024166             1            1         0   \n",
       "408           0  15.131547             1            1         0   \n",
       "409           0  14.377619             1            1         0   \n",
       "\n",
       "     Dernier_Diplome  Nbr_cours  SPE  \n",
       "0                  1         30    1  \n",
       "1                  1         30    1  \n",
       "2                  1         30    1  \n",
       "3                  1         30    1  \n",
       "4                  1         30    1  \n",
       "..               ...        ...  ...  \n",
       "405                1         28    6  \n",
       "406                1         29    7  \n",
       "407                1         29    7  \n",
       "408                1         29    7  \n",
       "409                1         31    4  \n",
       "\n",
       "[410 rows x 15 columns]"
      ]
     },
     "execution_count": 3,
     "metadata": {},
     "output_type": "execute_result"
    }
   ],
   "source": [
    "data"
   ]
  },
  {
   "cell_type": "code",
   "execution_count": 4,
   "id": "8a5b01b6",
   "metadata": {},
   "outputs": [
    {
     "name": "stdout",
     "output_type": "stream",
     "text": [
      "Coefficient de corrélation de Pearson :                    Age  Note_Moy  Nbr_cours  Nbr_absences\n",
      "Age           1.000000 -0.005209  -0.010595      0.050042\n",
      "Note_Moy     -0.005209  1.000000   0.143066     -0.121170\n",
      "Nbr_cours    -0.010595  0.143066   1.000000      0.210613\n",
      "Nbr_absences  0.050042 -0.121170   0.210613      1.000000\n"
     ]
    }
   ],
   "source": [
    "# Calcul de la corrélation de Pearson entre les variables quantitatives\n",
    "# Sélectionner les variables spécifiques\n",
    "donnees_selectionnees = data[[\"Age\", \"Note_Moy\", \"Nbr_cours\", \"Nbr_absences\"]]\n",
    "\n",
    "\n",
    "# Calcul de la matrice de corrélation entre les variables quantitatives\n",
    "matrice_corr = donnees_selectionnees.corr()\n",
    "\n",
    "print(\"Coefficient de corrélation de Pearson :\", matrice_corr)"
   ]
  },
  {
   "cell_type": "code",
   "execution_count": 5,
   "id": "9860ac32",
   "metadata": {},
   "outputs": [
    {
     "data": {
      "image/png": "[encoded data removed]",
      "text/plain": [
       "<Figure size 800x600 with 2 Axes>"
      ]
     },
     "metadata": {},
     "output_type": "display_data"
    }
   ],
   "source": [
    "import seaborn as sns\n",
    "import matplotlib.pyplot as plt\n",
    "# Créer un heatmap pour visualiser la matrice de corrélation\n",
    "plt.figure(figsize=(8, 6))\n",
    "sns.heatmap(matrice_corr, annot=True, cmap='coolwarm', fmt=\".2f\")\n",
    "\n",
    "plt.show()"
   ]
  },
  {
   "cell_type": "code",
   "execution_count": 6,
   "id": "288a7d5f",
   "metadata": {},
   "outputs": [
    {
     "data": {
      "image/png": "[encoded data removed]",
      "text/plain": [
       "<Figure size 800x600 with 1 Axes>"
      ]
     },
     "metadata": {},
     "output_type": "display_data"
    }
   ],
   "source": [
    "import matplotlib.pyplot as plt\n",
    "\n",
    "# Comptez le nombre de \"oui\" et \"non\" pour chaque sexe\n",
    "tableau_contingence = pd.crosstab(data['Sexe'], data['Décrochage'])\n",
    "\n",
    "# Créez un graphique à barres empilées\n",
    "tableau_contingence.plot(kind='bar', stacked=True, figsize=(8, 6))\n",
    "\n",
    "# Personnalisez les étiquettes et le titre\n",
    "plt.xlabel('Sexe')\n",
    "plt.ylabel('Nombre')\n",
    "plt.title('Décrochage VS Sexe')\n",
    "\n",
    "# Affichez le graphique\n",
    "plt.show()\n",
    "\n"
   ]
  },
  {
   "cell_type": "code",
   "execution_count": 7,
   "id": "f2fabe9c",
   "metadata": {},
   "outputs": [
    {
     "data": {
      "image/png": "[encoded data removed]",
      "text/plain": [
       "<Figure size 800x600 with 1 Axes>"
      ]
     },
     "metadata": {},
     "output_type": "display_data"
    }
   ],
   "source": [
    "# Décrochage vs Niveau\n",
    "tableau_contingence = pd.crosstab(data['Niveau'], data['Décrochage'])\n",
    "\n",
    "# Créez un graphique à barres empilées\n",
    "tableau_contingence.plot(kind='bar', stacked=True, figsize=(8, 6))\n",
    "\n",
    "# Personnalisez les étiquettes et le titre\n",
    "plt.xlabel('Niveau')\n",
    "plt.ylabel('Nombre')\n",
    "plt.title('Décrochage VS Niveau_étude')\n",
    "\n",
    "# Affichez le graphique\n",
    "plt.show()"
   ]
  },
  {
   "cell_type": "code",
   "execution_count": 83,
   "id": "15f3d2d0",
   "metadata": {},
   "outputs": [
    {
     "data": {
      "image/png": "[encoded data removed]",
      "text/plain": [
       "<Figure size 800x600 with 1 Axes>"
      ]
     },
     "metadata": {},
     "output_type": "display_data"
    }
   ],
   "source": [
    "# Décrochage vs International\n",
    "\n",
    "tableau_contingence = pd.crosstab(data['International'], data['Décrochage'])\n",
    "\n",
    "# Créez un graphique à barres empilées\n",
    "tableau_contingence.plot(kind='bar', stacked=True, figsize=(8, 6))\n",
    "\n",
    "# Personnalisez les étiquettes et le titre\n",
    "plt.xlabel('International')\n",
    "plt.ylabel('Nombre')\n",
    "plt.title('Décrochage vs International')\n",
    "\n",
    "# Affichez le graphique\n",
    "plt.show()"
   ]
  },
  {
   "cell_type": "code",
   "execution_count": 84,
   "id": "42c93630",
   "metadata": {},
   "outputs": [
    {
     "data": {
      "image/png": "[encoded data removed]",
      "text/plain": [
       "<Figure size 800x600 with 1 Axes>"
      ]
     },
     "metadata": {},
     "output_type": "display_data"
    }
   ],
   "source": [
    "# Décrochage vs Année d'entrée \n",
    "tableau_contingence = pd.crosstab(data['Annee_entree'], data['Décrochage'])\n",
    "\n",
    "# Créez un graphique à barres empilées\n",
    "tableau_contingence.plot(kind='bar', stacked=True, figsize=(8, 6))\n",
    "\n",
    "# Personnalisez les étiquettes et le titre\n",
    "plt.xlabel('Annee_entree')\n",
    "plt.ylabel('Nombre')\n",
    "plt.title('Décrochage vs Année_entrée')\n",
    "\n",
    "# Affichez le graphique\n",
    "plt.show()"
   ]
  },
  {
   "cell_type": "code",
   "execution_count": 85,
   "id": "bb394ee4",
   "metadata": {},
   "outputs": [
    {
     "data": {
      "image/png": "[encoded data removed]",
      "text/plain": [
       "<Figure size 800x600 with 1 Axes>"
      ]
     },
     "metadata": {},
     "output_type": "display_data"
    }
   ],
   "source": [
    "# Décrochage vs Nationalité\n",
    "tableau_contingence = pd.crosstab(data['Nationalité'], data['Décrochage'])\n",
    "\n",
    "# Créez un graphique à barres empilées\n",
    "tableau_contingence.plot(kind='bar', stacked=True, figsize=(8, 6))\n",
    "\n",
    "# Personnalisez les étiquettes et le titre\n",
    "plt.xlabel('Nationalité')\n",
    "plt.ylabel('Nombre')\n",
    "plt.title('Décrochage vs Nationalité')\n",
    "\n",
    "# Affichez le graphique\n",
    "plt.show()"
   ]
  },
  {
   "cell_type": "code",
   "execution_count": 86,
   "id": "f31557b0",
   "metadata": {},
   "outputs": [
    {
     "data": {
      "image/png": "[encoded data removed]",
      "text/plain": [
       "<Figure size 800x600 with 1 Axes>"
      ]
     },
     "metadata": {},
     "output_type": "display_data"
    }
   ],
   "source": [
    "# Décrochage vs Dernier diplôme obtenu \n",
    "tableau_contingence = pd.crosstab(data['Dernier_Diplome'], data['Décrochage'])\n",
    "\n",
    "# Créez un graphique à barres empilées\n",
    "tableau_contingence.plot(kind='bar', stacked=True, figsize=(8, 6))\n",
    "\n",
    "# Personnalisez les étiquettes et le titre\n",
    "plt.xlabel('Dernier_Diplome')\n",
    "plt.ylabel('Nombre')\n",
    "plt.title('Décrochage vs Dernier_Diplôme')\n",
    "\n",
    "# Affichez le graphique\n",
    "plt.show()"
   ]
  },
  {
   "cell_type": "code",
   "execution_count": 87,
   "id": "0f7cdfb5",
   "metadata": {},
   "outputs": [
    {
     "data": {
      "image/png": "[encoded data removed]",
      "text/plain": [
       "<Figure size 800x600 with 1 Axes>"
      ]
     },
     "metadata": {},
     "output_type": "display_data"
    }
   ],
   "source": [
    "# Décrochage vs Bourse \n",
    "tableau_contingence = pd.crosstab(data['Boursier'], data['Décrochage'])\n",
    "\n",
    "# Créez un graphique à barres empilées\n",
    "tableau_contingence.plot(kind='bar', stacked=True, figsize=(8, 6))\n",
    "\n",
    "# Personnalisez les étiquettes et le titre\n",
    "plt.xlabel('Bourse')\n",
    "plt.ylabel('Nombre')\n",
    "plt.title('Décrochage vs Bourse')\n",
    "\n",
    "# Affichez le graphique\n",
    "plt.show()"
   ]
  },
  {
   "cell_type": "code",
   "execution_count": 88,
   "id": "a5d05453",
   "metadata": {},
   "outputs": [
    {
     "data": {
      "image/png": "[encoded data removed]",
      "text/plain": [
       "<Figure size 800x600 with 1 Axes>"
      ]
     },
     "metadata": {},
     "output_type": "display_data"
    }
   ],
   "source": [
    "# Décrochage vs Régime \n",
    "tableau_contingence = pd.crosstab(data['Régime'], data['Décrochage'])\n",
    "\n",
    "# Créez un graphique à barres empilées\n",
    "tableau_contingence.plot(kind='bar', stacked=True, figsize=(8, 6))\n",
    "\n",
    "# Personnalisez les étiquettes et le titre\n",
    "plt.xlabel('Régime')\n",
    "plt.ylabel('Nombre')\n",
    "plt.title('Décrochage vs Régime')\n",
    "\n",
    "# Affichez le graphique\n",
    "plt.show()"
   ]
  },
  {
   "cell_type": "code",
   "execution_count": 89,
   "id": "b07e579b",
   "metadata": {},
   "outputs": [
    {
     "data": {
      "image/png": "[encoded data removed]",
      "text/plain": [
       "<Figure size 800x600 with 1 Axes>"
      ]
     },
     "metadata": {},
     "output_type": "display_data"
    }
   ],
   "source": [
    "# Décrochage vs Niveau\n",
    "tableau_contingence = pd.crosstab(data['SPE'], data['Décrochage'])\n",
    "\n",
    "# Créez un graphique à barres empilées\n",
    "tableau_contingence.plot(kind='bar', stacked=True, figsize=(8, 6))\n",
    "\n",
    "# Personnalisez les étiquettes et le titre\n",
    "plt.xlabel('SPE')\n",
    "plt.ylabel('Nombre')\n",
    "plt.title('Décrochage VS SPE')\n",
    "\n",
    "# Affichez le graphique\n",
    "plt.show()"
   ]
  },
  {
   "cell_type": "code",
   "execution_count": 90,
   "id": "c14a8c49",
   "metadata": {},
   "outputs": [
    {
     "name": "stdout",
     "output_type": "stream",
     "text": [
      "0.0005798335490338895 0.9807890092311944 1\n",
      "Décrochage    0   1\n",
      "Sexe               \n",
      "1           195  11\n",
      "2           192  12\n"
     ]
    }
   ],
   "source": [
    "#Générer les tableaux de contingence et calculer les statistiques Khi-2et les p_value\n",
    "from scipy.stats import chi2_contingency\n",
    "\n",
    "X = \"Sexe\"\n",
    "Y = \"Décrochage\"\n",
    "\n",
    "Cont1 = data[[X, Y]].pivot_table(index=X, columns=Y, aggfunc=len).fillna(0).copy().astype(int)\n",
    "\n",
    "stat, p_value, dof, expected = chi2_contingency(Cont1)\n",
    "print(stat, p_value, dof)\n",
    "print(Cont1)\n",
    "\n",
    "# Pas de relation entre le sexe et le décrochage p_value=0.98 > 5%\n"
   ]
  },
  {
   "cell_type": "code",
   "execution_count": 91,
   "id": "3b7343c4",
   "metadata": {},
   "outputs": [
    {
     "name": "stdout",
     "output_type": "stream",
     "text": [
      "9.606048985261857 0.04761319992938414 4\n",
      "Décrochage    0  1\n",
      "Niveau            \n",
      "1            37  1\n",
      "2            43  4\n",
      "3            78  8\n",
      "4            89  8\n",
      "5           140  2\n"
     ]
    }
   ],
   "source": [
    "X = \"Niveau\"\n",
    "Y = \"Décrochage\"\n",
    "\n",
    "Cont2 = data[[X, Y]].pivot_table(index=X, columns=Y, aggfunc=len).fillna(0).copy().astype(int)\n",
    "\n",
    "stat, p_value, dof, expected = chi2_contingency(Cont2)\n",
    "print(stat, p_value, dof)\n",
    "print(Cont2)\n",
    "\n",
    "# Relation entre le niveau d'études et le décrochage p_value=0.047 < 5%"
   ]
  },
  {
   "cell_type": "code",
   "execution_count": 92,
   "id": "51b8aa9a",
   "metadata": {},
   "outputs": [
    {
     "name": "stdout",
     "output_type": "stream",
     "text": [
      "10.080490256038305 0.0014984745877409395 1\n",
      "Décrochage    0   1\n",
      "Régime             \n",
      "1           173   2\n",
      "2           214  21\n"
     ]
    }
   ],
   "source": [
    "X = \"Régime\"\n",
    "Y = \"Décrochage\"\n",
    "\n",
    "Cont3 = data[[X, Y]].pivot_table(index=X, columns=Y, aggfunc=len).fillna(0).copy().astype(int)\n",
    "\n",
    "stat, p_value, dof, expected = chi2_contingency(Cont3)\n",
    "print(stat, p_value, dof)\n",
    "print(Cont3)\n",
    "\n",
    "# Relation entre Régime d'études et décrochage p_value=0.0011 < 5%"
   ]
  },
  {
   "cell_type": "code",
   "execution_count": 93,
   "id": "0c464866",
   "metadata": {},
   "outputs": [
    {
     "name": "stdout",
     "output_type": "stream",
     "text": [
      "13.750117660286378 0.03255551166899264 6\n",
      "Décrochage      0  1\n",
      "Annee_entree        \n",
      "1               1  0\n",
      "2               9  0\n",
      "3              86  2\n",
      "4              44  7\n",
      "5              47  5\n",
      "6              92  7\n",
      "7             108  2\n"
     ]
    }
   ],
   "source": [
    "X = \"Annee_entree\"\n",
    "Y = \"Décrochage\"\n",
    "\n",
    "Cont4= data[[X, Y]].pivot_table(index=X, columns=Y, aggfunc=len).fillna(0).copy().astype(int)\n",
    "\n",
    "stat, p_value, dof, expected = chi2_contingency(Cont4)\n",
    "print(stat, p_value, dof)\n",
    "print(Cont4)\n",
    "\n",
    "# Relation entre l'année d'entrée et le décrochage p_value=0.03 < 5%"
   ]
  },
  {
   "cell_type": "code",
   "execution_count": 94,
   "id": "e418b86b",
   "metadata": {},
   "outputs": [
    {
     "name": "stdout",
     "output_type": "stream",
     "text": [
      "0.0028788900123581625 0.9572098058511882 1\n",
      "Décrochage       0   1\n",
      "International         \n",
      "0              309  19\n",
      "1               78   4\n"
     ]
    }
   ],
   "source": [
    "X = \"International\"\n",
    "Y = \"Décrochage\"\n",
    "\n",
    "Cont5 = data[[X, Y]].pivot_table(index=X, columns=Y, aggfunc=len).fillna(0).copy().astype(int)\n",
    "\n",
    "stat, p_value, dof, expected = chi2_contingency(Cont5)\n",
    "print(stat, p_value, dof)\n",
    "print(Cont5)\n",
    "\n",
    "# Pas de relation entre l'International et le décrochage p_value=0.957 > 5%"
   ]
  },
  {
   "cell_type": "code",
   "execution_count": 95,
   "id": "686533f4",
   "metadata": {},
   "outputs": [
    {
     "name": "stdout",
     "output_type": "stream",
     "text": [
      "0.08096878159757323 0.7759888158738489 1\n",
      "Décrochage     0   1\n",
      "Nationalité         \n",
      "0             86   4\n",
      "1            301  19\n"
     ]
    }
   ],
   "source": [
    "X = \"Nationalité\"\n",
    "Y = \"Décrochage\"\n",
    "\n",
    "Cont6 = data[[X, Y]].pivot_table(index=X, columns=Y, aggfunc=len).fillna(0).copy().astype(int)\n",
    "\n",
    "stat, p_value, dof, expected = chi2_contingency(Cont6)\n",
    "print(stat, p_value, dof)\n",
    "print(Cont6)\n",
    "\n",
    "# Pas de relation entre la nationalité et le décrochage p_value=0.77 > 5%"
   ]
  },
  {
   "cell_type": "code",
   "execution_count": 96,
   "id": "b0f2c653",
   "metadata": {},
   "outputs": [
    {
     "name": "stdout",
     "output_type": "stream",
     "text": [
      "0.02272807904493287 0.8801663452904276 1\n",
      "Décrochage    0   1\n",
      "Boursier           \n",
      "0           358  22\n",
      "1            29   1\n"
     ]
    }
   ],
   "source": [
    "X = \"Boursier\"\n",
    "Y = \"Décrochage\"\n",
    "\n",
    "Cont7 = data[[X, Y]].pivot_table(index=X, columns=Y, aggfunc=len).fillna(0).copy().astype(int)\n",
    "\n",
    "stat, p_value, dof, expected = chi2_contingency(Cont7)\n",
    "print(stat, p_value, dof)\n",
    "print(Cont7)\n",
    "\n",
    "# Pas de relation entre la bourse et le décrochage p_value=0.88 > 5%"
   ]
  },
  {
   "cell_type": "code",
   "execution_count": 97,
   "id": "6ff21841",
   "metadata": {},
   "outputs": [
    {
     "name": "stdout",
     "output_type": "stream",
     "text": [
      "9.864547269912896 0.1304733491327282 6\n",
      "Décrochage    0   1\n",
      "SPE                \n",
      "1           153  13\n",
      "2             5   0\n",
      "3            23   4\n",
      "4            66   2\n",
      "5            79   3\n",
      "6            29   1\n",
      "7            32   0\n"
     ]
    }
   ],
   "source": [
    "X = \"SPE\"\n",
    "Y = \"Décrochage\"\n",
    "\n",
    "Cont8 = data[[X, Y]].pivot_table(index=X, columns=Y, aggfunc=len).fillna(0).copy().astype(int)\n",
    "\n",
    "stat, p_value, dof, expected = chi2_contingency(Cont8)\n",
    "print(stat, p_value, dof)\n",
    "print(Cont8)\n",
    "\n",
    "# Pas de relation entre la spe et le décrochage p_value=0.13 > 5%"
   ]
  },
  {
   "cell_type": "code",
   "execution_count": 36,
   "id": "0a1c8170",
   "metadata": {},
   "outputs": [
    {
     "name": "stdout",
     "output_type": "stream",
     "text": [
      "1.154367137828895 0.8855530943374393 4\n",
      "Décrochage         0   1\n",
      "Dernier_Diplome         \n",
      "1                327  21\n",
      "2                  5   0\n",
      "3                 17   1\n",
      "4                  4   0\n",
      "5                 34   1\n"
     ]
    }
   ],
   "source": [
    "X = \"Dernier_Diplome\"\n",
    "Y = \"Décrochage\"\n",
    "\n",
    "Cont9 = data[[X, Y]].pivot_table(index=X, columns=Y, aggfunc=len).fillna(0).copy().astype(int)\n",
    "\n",
    "stat, p_value, dof, expected = chi2_contingency(Cont9)\n",
    "print(stat, p_value, dof)\n",
    "print(Cont9)\n",
    "\n",
    "# Pas de relation entre dernier diplome obtenu et décrochage p_value=0.88 > 5%"
   ]
  },
  {
   "cell_type": "code",
   "execution_count": 37,
   "id": "033952f5",
   "metadata": {},
   "outputs": [
    {
     "data": {
      "image/png": "[encoded data removed]",
      "text/plain": [
       "<Figure size 800x600 with 1 Axes>"
      ]
     },
     "metadata": {},
     "output_type": "display_data"
    }
   ],
   "source": [
    "\n",
    "# Créer un box plot pour visualiser la distribution de l'âge en fonction du décrochage\n",
    "plt.figure(figsize=(8, 6))\n",
    "sns.boxplot(x='Décrochage', y='Age', data=data)\n",
    "plt.xlabel('Décrochage')\n",
    "plt.ylabel('Âge')\n",
    "plt.title('Distribution de l\\'Âge en fonction du Décrochage')\n",
    "plt.show()\n"
   ]
  },
  {
   "cell_type": "code",
   "execution_count": 38,
   "id": "93983683",
   "metadata": {},
   "outputs": [
    {
     "data": {
      "image/png": "[encoded data removed]",
      "text/plain": [
       "<Figure size 800x600 with 1 Axes>"
      ]
     },
     "metadata": {},
     "output_type": "display_data"
    }
   ],
   "source": [
    "\n",
    "# Créer un box plot pour visualiser la distribution de le nombre d'absences en fonction du décrochage\n",
    "plt.figure(figsize=(8, 6))\n",
    "sns.boxplot(x='Décrochage', y='Nbr_absences', data=data)\n",
    "plt.xlabel('Décrochage')\n",
    "plt.ylabel('Nombre d\\'absences')\n",
    "plt.title('Distribution de Nombre d\\'absences en fonction du Décrochage')\n",
    "plt.show()\n"
   ]
  },
  {
   "cell_type": "code",
   "execution_count": 39,
   "id": "29430066",
   "metadata": {},
   "outputs": [
    {
     "data": {
      "image/png": "[encoded data removed]",
      "text/plain": [
       "<Figure size 800x600 with 1 Axes>"
      ]
     },
     "metadata": {},
     "output_type": "display_data"
    }
   ],
   "source": [
    "\n",
    "# Créer un box plot pour visualiser la distribution de le nombre de cours en fonction du décrochage\n",
    "plt.figure(figsize=(8, 6))\n",
    "sns.boxplot(x='Décrochage', y='Nbr_cours', data=data)\n",
    "plt.xlabel('Décrochage')\n",
    "plt.ylabel('Nombre de cours')\n",
    "plt.title('Distribution de Nombre de cours en fonction du Décrochage')\n",
    "plt.show()"
   ]
  },
  {
   "cell_type": "code",
   "execution_count": 40,
   "id": "b15d7506",
   "metadata": {},
   "outputs": [
    {
     "data": {
      "image/png": "[encoded data removed]",
      "text/plain": [
       "<Figure size 800x600 with 1 Axes>"
      ]
     },
     "metadata": {},
     "output_type": "display_data"
    }
   ],
   "source": [
    "# Créer un box plot pour visualiser la distribution de la note moyenne en fonction du décrochage\n",
    "plt.figure(figsize=(8, 6))\n",
    "sns.boxplot(x='Décrochage', y='Note_Moy', data=data)\n",
    "plt.xlabel('Décrochage')\n",
    "plt.ylabel('Note Moyenne')\n",
    "plt.title('Distribution de la Note Moyenne en fonction du Décrochage')\n",
    "plt.show()"
   ]
  },
  {
   "cell_type": "code",
   "execution_count": 41,
   "id": "a1fe159a",
   "metadata": {},
   "outputs": [
    {
     "name": "stdout",
     "output_type": "stream",
     "text": [
      "Décrochage\n",
      "0    387\n",
      "1     23\n",
      "Name: count, dtype: int64\n"
     ]
    }
   ],
   "source": [
    "print(data.Décrochage.value_counts())"
   ]
  },
  {
   "cell_type": "code",
   "execution_count": 42,
   "id": "8c20c824",
   "metadata": {},
   "outputs": [
    {
     "name": "stdout",
     "output_type": "stream",
     "text": [
      "Décrochage\n",
      "0    0.943902\n",
      "1    0.056098\n",
      "Name: proportion, dtype: float64\n"
     ]
    }
   ],
   "source": [
    "print(data.Décrochage.value_counts(normalize=True))"
   ]
  },
  {
   "cell_type": "code",
   "execution_count": 43,
   "id": "825ffffa",
   "metadata": {},
   "outputs": [
    {
     "name": "stdout",
     "output_type": "stream",
     "text": [
      "(287, 15)\n",
      "(123, 15)\n"
     ]
    }
   ],
   "source": [
    "# Subdiviser les données en échantillons d'apprentissage et de test\n",
    "from sklearn.model_selection import train_test_split\n",
    "DataTrain, DataTest = train_test_split(data, test_size=0.3, random_state=1, stratify=data.Décrochage)\n",
    "# Vérifier les dimensions\n",
    "print(DataTrain.shape)\n",
    "print(DataTest.shape)"
   ]
  },
  {
   "cell_type": "markdown",
   "id": "1df5c8b4",
   "metadata": {},
   "source": [
    "# Logistic Regression"
   ]
  },
  {
   "cell_type": "code",
   "execution_count": 51,
   "id": "b17935fa",
   "metadata": {},
   "outputs": [
    {
     "name": "stdout",
     "output_type": "stream",
     "text": [
      "Matrice de confusion :\n",
      "[[114   0]\n",
      " [  9   0]]\n",
      "\n",
      "Rapport de classification :\n",
      "              precision    recall  f1-score   support\n",
      "\n",
      "           0       0.93      1.00      0.96       114\n",
      "           1       0.00      0.00      0.00         9\n",
      "\n",
      "    accuracy                           0.93       123\n",
      "   macro avg       0.46      0.50      0.48       123\n",
      "weighted avg       0.86      0.93      0.89       123\n",
      "\n",
      "\n",
      "Précision du modèle :\n",
      "0.93\n"
     ]
    },
    {
     "name": "stderr",
     "output_type": "stream",
     "text": [
      "C:\\Users\\Mus\\AppData\\Local\\anaconda3\\Lib\\site-packages\\sklearn\\linear_model\\_logistic.py:460: ConvergenceWarning: lbfgs failed to converge (status=1):\n",
      "STOP: TOTAL NO. of ITERATIONS REACHED LIMIT.\n",
      "\n",
      "Increase the number of iterations (max_iter) or scale the data as shown in:\n",
      "    https://scikit-learn.org/stable/modules/preprocessing.html\n",
      "Please also refer to the documentation for alternative solver options:\n",
      "    https://scikit-learn.org/stable/modules/linear_model.html#logistic-regression\n",
      "  n_iter_i = _check_optimize_result(\n",
      "C:\\Users\\Mus\\AppData\\Local\\anaconda3\\Lib\\site-packages\\sklearn\\metrics\\_classification.py:1469: UndefinedMetricWarning: Precision and F-score are ill-defined and being set to 0.0 in labels with no predicted samples. Use `zero_division` parameter to control this behavior.\n",
      "  _warn_prf(average, modifier, msg_start, len(result))\n",
      "C:\\Users\\Mus\\AppData\\Local\\anaconda3\\Lib\\site-packages\\sklearn\\metrics\\_classification.py:1469: UndefinedMetricWarning: Precision and F-score are ill-defined and being set to 0.0 in labels with no predicted samples. Use `zero_division` parameter to control this behavior.\n",
      "  _warn_prf(average, modifier, msg_start, len(result))\n",
      "C:\\Users\\Mus\\AppData\\Local\\anaconda3\\Lib\\site-packages\\sklearn\\metrics\\_classification.py:1469: UndefinedMetricWarning: Precision and F-score are ill-defined and being set to 0.0 in labels with no predicted samples. Use `zero_division` parameter to control this behavior.\n",
      "  _warn_prf(average, modifier, msg_start, len(result))\n"
     ]
    }
   ],
   "source": [
    "from sklearn.model_selection import train_test_split\n",
    "from sklearn.linear_model import LogisticRegression\n",
    "from sklearn.metrics import classification_report, confusion_matrix, accuracy_score\n",
    "\n",
    "\n",
    "# Divisez les données en ensemble d'entraînement et ensemble de test\n",
    "X = data[['Age', 'Nbr_cours', 'Nbr_absences','Sexe', 'Niveau', 'Dernier_Diplome', 'SPE','International', 'Nationalité', 'Note_Moy', 'Boursier', 'Régime' , 'Annee_entree']]\n",
    "y = data['Décrochage']\n",
    "X_train, X_test, y_train, y_test = train_test_split(X, y, test_size=0.3, random_state=42)\n",
    "\n",
    "# Créez le modèle de régression logistique\n",
    "model = LogisticRegression()\n",
    "\n",
    "# Entraînez le modèle sur l'ensemble d'entraînement\n",
    "model.fit(X_train, y_train)\n",
    "\n",
    "# Prédisez les résultats sur l'ensemble de test\n",
    "y_pred = model.predict(X_test)\n",
    "\n",
    "# Évaluez les performances du modèle\n",
    "print(\"Matrice de confusion :\")\n",
    "print(confusion_matrix(y_test, y_pred))\n",
    "print(\"\\nRapport de classification :\")\n",
    "print(classification_report(y_test, y_pred))\n",
    "print(\"\\nPrécision du modèle :\")\n",
    "print(round(accuracy_score(y_test, y_pred),2))\n"
   ]
  },
  {
   "cell_type": "markdown",
   "id": "4e9dbba7",
   "metadata": {},
   "source": [
    "# SVM"
   ]
  },
  {
   "cell_type": "code",
   "execution_count": 52,
   "id": "1a216a61",
   "metadata": {},
   "outputs": [
    {
     "name": "stdout",
     "output_type": "stream",
     "text": [
      "Matrice de confusion :\n",
      "[[114   0]\n",
      " [  9   0]]\n",
      "\n",
      "Rapport de classification :\n",
      "              precision    recall  f1-score   support\n",
      "\n",
      "           0       0.93      1.00      0.96       114\n",
      "           1       0.00      0.00      0.00         9\n",
      "\n",
      "    accuracy                           0.93       123\n",
      "   macro avg       0.46      0.50      0.48       123\n",
      "weighted avg       0.86      0.93      0.89       123\n",
      "\n",
      "\n",
      "Précision du modèle :\n",
      "0.93\n"
     ]
    },
    {
     "name": "stderr",
     "output_type": "stream",
     "text": [
      "C:\\Users\\Mus\\AppData\\Local\\anaconda3\\Lib\\site-packages\\sklearn\\metrics\\_classification.py:1469: UndefinedMetricWarning: Precision and F-score are ill-defined and being set to 0.0 in labels with no predicted samples. Use `zero_division` parameter to control this behavior.\n",
      "  _warn_prf(average, modifier, msg_start, len(result))\n",
      "C:\\Users\\Mus\\AppData\\Local\\anaconda3\\Lib\\site-packages\\sklearn\\metrics\\_classification.py:1469: UndefinedMetricWarning: Precision and F-score are ill-defined and being set to 0.0 in labels with no predicted samples. Use `zero_division` parameter to control this behavior.\n",
      "  _warn_prf(average, modifier, msg_start, len(result))\n",
      "C:\\Users\\Mus\\AppData\\Local\\anaconda3\\Lib\\site-packages\\sklearn\\metrics\\_classification.py:1469: UndefinedMetricWarning: Precision and F-score are ill-defined and being set to 0.0 in labels with no predicted samples. Use `zero_division` parameter to control this behavior.\n",
      "  _warn_prf(average, modifier, msg_start, len(result))\n"
     ]
    }
   ],
   "source": [
    "from sklearn.svm import SVC\n",
    "\n",
    "# Créez le modèle SVM\n",
    "model1 = SVC(kernel='linear')  # Vous pouvez choisir d'autres noyaux, comme 'rbf' pour un noyau gaussien\n",
    "\n",
    "# Entraînez le modèle sur l'ensemble d'entraînement\n",
    "model1.fit(X_train, y_train)\n",
    "\n",
    "# Prédisez les résultats sur l'ensemble de test\n",
    "y_pred = model1.predict(X_test)\n",
    "\n",
    "# Évaluez les performances du modèle\n",
    "print(\"Matrice de confusion :\")\n",
    "print(confusion_matrix(y_test, y_pred))\n",
    "print(\"\\nRapport de classification :\")\n",
    "print(classification_report(y_test, y_pred))\n",
    "print(\"\\nPrécision du modèle :\")\n",
    "print(round(accuracy_score(y_test, y_pred), 2))"
   ]
  },
  {
   "cell_type": "markdown",
   "id": "96dda466",
   "metadata": {},
   "source": [
    "# Decision Tree"
   ]
  },
  {
   "cell_type": "code",
   "execution_count": 53,
   "id": "26bf4a1e",
   "metadata": {},
   "outputs": [
    {
     "name": "stdout",
     "output_type": "stream",
     "text": [
      "Matrice de confusion :\n",
      "[[108   6]\n",
      " [  8   1]]\n",
      "\n",
      "Rapport de classification :\n",
      "              precision    recall  f1-score   support\n",
      "\n",
      "           0       0.93      0.95      0.94       114\n",
      "           1       0.14      0.11      0.12         9\n",
      "\n",
      "    accuracy                           0.89       123\n",
      "   macro avg       0.54      0.53      0.53       123\n",
      "weighted avg       0.87      0.89      0.88       123\n",
      "\n",
      "\n",
      "Précision du modèle :\n",
      "0.89\n"
     ]
    }
   ],
   "source": [
    "from sklearn.tree import DecisionTreeClassifier\n",
    "\n",
    "\n",
    "# Créez le modèle d'arbre de décision\n",
    "model2 = DecisionTreeClassifier()\n",
    "\n",
    "# Entraînez le modèle sur l'ensemble d'entraînement\n",
    "model2.fit(X_train, y_train)\n",
    "\n",
    "# Prédisez les résultats sur l'ensemble de test\n",
    "y_pred = model2.predict(X_test)\n",
    "\n",
    "# Évaluez les performances du modèle\n",
    "print(\"Matrice de confusion :\")\n",
    "print(confusion_matrix(y_test, y_pred))\n",
    "print(\"\\nRapport de classification :\")\n",
    "print(classification_report(y_test, y_pred))\n",
    "print(\"\\nPrécision du modèle :\")\n",
    "print(round(accuracy_score(y_test, y_pred),2))\n"
   ]
  },
  {
   "cell_type": "markdown",
   "id": "71da983b",
   "metadata": {},
   "source": [
    "# XGBOOST"
   ]
  },
  {
   "cell_type": "code",
   "execution_count": 20,
   "id": "58ef4222",
   "metadata": {},
   "outputs": [
    {
     "name": "stdout",
     "output_type": "stream",
     "text": [
      "Matrice de confusion :\n",
      "[[110   4]\n",
      " [  9   0]]\n",
      "\n",
      "Rapport de classification :\n",
      "              precision    recall  f1-score   support\n",
      "\n",
      "           0       0.92      0.96      0.94       114\n",
      "           1       0.00      0.00      0.00         9\n",
      "\n",
      "    accuracy                           0.89       123\n",
      "   macro avg       0.46      0.48      0.47       123\n",
      "weighted avg       0.86      0.89      0.88       123\n",
      "\n",
      "\n",
      "Précision du modèle :\n",
      "0.89\n"
     ]
    }
   ],
   "source": [
    "import xgboost as xgb\n",
    "\n",
    "# Créez le modèle XGBoost\n",
    "model3 = xgb.XGBClassifier()\n",
    "\n",
    "# Entraînez le modèle sur l'ensemble d'entraînement\n",
    "model3.fit(X_train, y_train)\n",
    "\n",
    "# Prédisez les résultats sur l'ensemble de test\n",
    "y_pred = model3.predict(X_test)\n",
    "\n",
    "# Évaluez les performances du modèle\n",
    "print(\"Matrice de confusion :\")\n",
    "print(confusion_matrix(y_test, y_pred))\n",
    "print(\"\\nRapport de classification :\")\n",
    "print(classification_report(y_test, y_pred))\n",
    "print(\"\\nPrécision du modèle :\")\n",
    "print(round(accuracy_score(y_test, y_pred),2))\n"
   ]
  },
  {
   "cell_type": "markdown",
   "id": "ac12d991",
   "metadata": {},
   "source": [
    "# Random Forest"
   ]
  },
  {
   "cell_type": "code",
   "execution_count": 54,
   "id": "d01b53c3",
   "metadata": {},
   "outputs": [
    {
     "name": "stdout",
     "output_type": "stream",
     "text": [
      "Matrice de confusion :\n",
      "[[114   0]\n",
      " [  9   0]]\n",
      "\n",
      "Rapport de classification :\n",
      "              precision    recall  f1-score   support\n",
      "\n",
      "           0       0.93      1.00      0.96       114\n",
      "           1       0.00      0.00      0.00         9\n",
      "\n",
      "    accuracy                           0.93       123\n",
      "   macro avg       0.46      0.50      0.48       123\n",
      "weighted avg       0.86      0.93      0.89       123\n",
      "\n",
      "\n",
      "Précision du modèle :\n",
      "0.93\n"
     ]
    },
    {
     "name": "stderr",
     "output_type": "stream",
     "text": [
      "C:\\Users\\Mus\\AppData\\Local\\anaconda3\\Lib\\site-packages\\sklearn\\metrics\\_classification.py:1469: UndefinedMetricWarning: Precision and F-score are ill-defined and being set to 0.0 in labels with no predicted samples. Use `zero_division` parameter to control this behavior.\n",
      "  _warn_prf(average, modifier, msg_start, len(result))\n",
      "C:\\Users\\Mus\\AppData\\Local\\anaconda3\\Lib\\site-packages\\sklearn\\metrics\\_classification.py:1469: UndefinedMetricWarning: Precision and F-score are ill-defined and being set to 0.0 in labels with no predicted samples. Use `zero_division` parameter to control this behavior.\n",
      "  _warn_prf(average, modifier, msg_start, len(result))\n",
      "C:\\Users\\Mus\\AppData\\Local\\anaconda3\\Lib\\site-packages\\sklearn\\metrics\\_classification.py:1469: UndefinedMetricWarning: Precision and F-score are ill-defined and being set to 0.0 in labels with no predicted samples. Use `zero_division` parameter to control this behavior.\n",
      "  _warn_prf(average, modifier, msg_start, len(result))\n"
     ]
    }
   ],
   "source": [
    "from sklearn.ensemble import RandomForestClassifier\n",
    "from sklearn.metrics import accuracy_score, confusion_matrix, classification_report\n",
    "\n",
    "\n",
    "# Création du modèle Random Forest\n",
    "rf_model = RandomForestClassifier(n_estimators=100, random_state=42)\n",
    "\n",
    "# Entraînement du modèle\n",
    "rf_model.fit(X_train, y_train)\n",
    "\n",
    "# Prédiction sur les données de test\n",
    "y_pred = rf_model.predict(X_test)\n",
    "\n",
    "# Évaluation du modèle\n",
    "print(\"Matrice de confusion :\")\n",
    "print(confusion_matrix(y_test, y_pred))\n",
    "print(\"\\nRapport de classification :\")\n",
    "print(classification_report(y_test, y_pred))\n",
    "print(\"\\nPrécision du modèle :\")\n",
    "print(round(accuracy_score(y_test, y_pred), 2))\n"
   ]
  },
  {
   "cell_type": "markdown",
   "id": "53a5296a",
   "metadata": {},
   "source": [
    "# Amélioration de la précision en utilisant CV"
   ]
  },
  {
   "cell_type": "markdown",
   "id": "b46c0327",
   "metadata": {},
   "source": [
    "## Random Forest"
   ]
  },
  {
   "cell_type": "code",
   "execution_count": 56,
   "id": "fc53e6fe",
   "metadata": {},
   "outputs": [
    {
     "name": "stdout",
     "output_type": "stream",
     "text": [
      "Scores de validation croisée : [0.94827586 0.94827586 0.96491228 0.94736842 0.92982456]\n",
      "Précision moyenne : 0.95\n"
     ]
    }
   ],
   "source": [
    "from sklearn.model_selection import cross_val_score, StratifiedKFold, train_test_split\n",
    "from sklearn.ensemble import RandomForestClassifier\n",
    "from sklearn.metrics import classification_report, confusion_matrix, accuracy_score\n",
    "\n",
    "# Création du modèle Random Forest\n",
    "rf_model = RandomForestClassifier(n_estimators=100, random_state=42)\n",
    "\n",
    "# Définir une stratégie de validation croisée\n",
    "cv = StratifiedKFold(n_splits=5, shuffle=True, random_state=42)\n",
    "\n",
    "# Appliquer la validation croisée\n",
    "scores = cross_val_score(rf_model, X_train, y_train, cv=cv, scoring='accuracy')\n",
    "\n",
    "# Afficher les résultats\n",
    "print(\"Scores de validation croisée :\", scores)\n",
    "print(\"Précision moyenne :\", round(scores.mean(),2))\n"
   ]
  },
  {
   "cell_type": "markdown",
   "id": "51dd64c3",
   "metadata": {},
   "source": [
    "## XGBoost"
   ]
  },
  {
   "cell_type": "code",
   "execution_count": 57,
   "id": "5095cfbb",
   "metadata": {},
   "outputs": [
    {
     "name": "stdout",
     "output_type": "stream",
     "text": [
      "Scores de validation croisée : [0.94827586 0.94827586 0.94736842 0.89473684 0.94736842]\n",
      "Précision moyenne : 0.94\n"
     ]
    }
   ],
   "source": [
    "# Créez le modèle XGBoost\n",
    "model3 = xgb.XGBClassifier()\n",
    "\n",
    "\n",
    "# Définir une stratégie de validation croisée\n",
    "cv = StratifiedKFold(n_splits=5, shuffle=True, random_state=42)\n",
    "\n",
    "# Appliquer la validation croisée\n",
    "scores = cross_val_score(model3, X_train, y_train, cv=cv, scoring='accuracy')\n",
    "\n",
    "# Afficher les résultats\n",
    "print(\"Scores de validation croisée :\", scores)\n",
    "print(\"Précision moyenne :\", round(scores.mean(),2))"
   ]
  },
  {
   "cell_type": "markdown",
   "id": "bc4d16c5",
   "metadata": {},
   "source": [
    "## Decision Tree"
   ]
  },
  {
   "cell_type": "code",
   "execution_count": 58,
   "id": "276a9562",
   "metadata": {},
   "outputs": [
    {
     "name": "stdout",
     "output_type": "stream",
     "text": [
      "Scores de validation croisée : [0.94827586 0.89655172 0.89473684 0.96491228 0.9122807 ]\n",
      "Précision moyenne : 0.92\n"
     ]
    }
   ],
   "source": [
    "# Créez le modèle d'arbre de décision\n",
    "model2 = DecisionTreeClassifier()\n",
    "\n",
    "# Définir une stratégie de validation croisée\n",
    "cv = StratifiedKFold(n_splits=5, shuffle=True, random_state=42)\n",
    "\n",
    "# Appliquer la validation croisée\n",
    "scores = cross_val_score(model2, X_train, y_train, cv=cv, scoring='accuracy')\n",
    "\n",
    "# Afficher les résultats\n",
    "print(\"Scores de validation croisée :\", scores)\n",
    "print(\"Précision moyenne :\", round(scores.mean(),2))"
   ]
  },
  {
   "cell_type": "markdown",
   "id": "df282404",
   "metadata": {},
   "source": [
    "## SVM"
   ]
  },
  {
   "cell_type": "code",
   "execution_count": 59,
   "id": "24a6b2fd",
   "metadata": {},
   "outputs": [
    {
     "name": "stdout",
     "output_type": "stream",
     "text": [
      "Scores de validation croisée : [0.94827586 0.94827586 0.96491228 0.94736842 0.94736842]\n",
      "Précision moyenne : 0.95\n"
     ]
    }
   ],
   "source": [
    "\n",
    "# Créez le modèle SVM\n",
    "model1 = SVC(kernel='linear')  # Vous pouvez choisir d'autres noyaux, comme 'rbf' pour un noyau gaussien\n",
    "\n",
    "# Définir une stratégie de validation croisée\n",
    "cv = StratifiedKFold(n_splits=5, shuffle=True, random_state=42)\n",
    "\n",
    "# Appliquer la validation croisée\n",
    "scores = cross_val_score(model1, X_train, y_train, cv=cv, scoring='accuracy')\n",
    "\n",
    "# Afficher les résultats\n",
    "print(\"Scores de validation croisée :\", scores)\n",
    "print(\"Précision moyenne :\", round(scores.mean(),2))\n"
   ]
  },
  {
   "cell_type": "markdown",
   "id": "3250a576",
   "metadata": {},
   "source": [
    "## Logistic regresssion "
   ]
  },
  {
   "cell_type": "code",
   "execution_count": 60,
   "id": "824cdf38",
   "metadata": {},
   "outputs": [
    {
     "name": "stderr",
     "output_type": "stream",
     "text": [
      "C:\\Users\\Mus\\AppData\\Local\\anaconda3\\Lib\\site-packages\\sklearn\\linear_model\\_logistic.py:460: ConvergenceWarning: lbfgs failed to converge (status=1):\n",
      "STOP: TOTAL NO. of ITERATIONS REACHED LIMIT.\n",
      "\n",
      "Increase the number of iterations (max_iter) or scale the data as shown in:\n",
      "    https://scikit-learn.org/stable/modules/preprocessing.html\n",
      "Please also refer to the documentation for alternative solver options:\n",
      "    https://scikit-learn.org/stable/modules/linear_model.html#logistic-regression\n",
      "  n_iter_i = _check_optimize_result(\n",
      "C:\\Users\\Mus\\AppData\\Local\\anaconda3\\Lib\\site-packages\\sklearn\\linear_model\\_logistic.py:460: ConvergenceWarning: lbfgs failed to converge (status=1):\n",
      "STOP: TOTAL NO. of ITERATIONS REACHED LIMIT.\n",
      "\n",
      "Increase the number of iterations (max_iter) or scale the data as shown in:\n",
      "    https://scikit-learn.org/stable/modules/preprocessing.html\n",
      "Please also refer to the documentation for alternative solver options:\n",
      "    https://scikit-learn.org/stable/modules/linear_model.html#logistic-regression\n",
      "  n_iter_i = _check_optimize_result(\n",
      "C:\\Users\\Mus\\AppData\\Local\\anaconda3\\Lib\\site-packages\\sklearn\\linear_model\\_logistic.py:460: ConvergenceWarning: lbfgs failed to converge (status=1):\n",
      "STOP: TOTAL NO. of ITERATIONS REACHED LIMIT.\n",
      "\n",
      "Increase the number of iterations (max_iter) or scale the data as shown in:\n",
      "    https://scikit-learn.org/stable/modules/preprocessing.html\n",
      "Please also refer to the documentation for alternative solver options:\n",
      "    https://scikit-learn.org/stable/modules/linear_model.html#logistic-regression\n",
      "  n_iter_i = _check_optimize_result(\n",
      "C:\\Users\\Mus\\AppData\\Local\\anaconda3\\Lib\\site-packages\\sklearn\\linear_model\\_logistic.py:460: ConvergenceWarning: lbfgs failed to converge (status=1):\n",
      "STOP: TOTAL NO. of ITERATIONS REACHED LIMIT.\n",
      "\n",
      "Increase the number of iterations (max_iter) or scale the data as shown in:\n",
      "    https://scikit-learn.org/stable/modules/preprocessing.html\n",
      "Please also refer to the documentation for alternative solver options:\n",
      "    https://scikit-learn.org/stable/modules/linear_model.html#logistic-regression\n",
      "  n_iter_i = _check_optimize_result(\n"
     ]
    },
    {
     "name": "stdout",
     "output_type": "stream",
     "text": [
      "Scores de validation croisée : [0.94827586 0.93103448 0.96491228 0.94736842 0.94736842]\n",
      "Précision moyenne : 0.95\n"
     ]
    },
    {
     "name": "stderr",
     "output_type": "stream",
     "text": [
      "C:\\Users\\Mus\\AppData\\Local\\anaconda3\\Lib\\site-packages\\sklearn\\linear_model\\_logistic.py:460: ConvergenceWarning: lbfgs failed to converge (status=1):\n",
      "STOP: TOTAL NO. of ITERATIONS REACHED LIMIT.\n",
      "\n",
      "Increase the number of iterations (max_iter) or scale the data as shown in:\n",
      "    https://scikit-learn.org/stable/modules/preprocessing.html\n",
      "Please also refer to the documentation for alternative solver options:\n",
      "    https://scikit-learn.org/stable/modules/linear_model.html#logistic-regression\n",
      "  n_iter_i = _check_optimize_result(\n"
     ]
    }
   ],
   "source": [
    "# Créez le modèle de régression logistique\n",
    "model = LogisticRegression()\n",
    "\n",
    "# Définir une stratégie de validation croisée\n",
    "cv = StratifiedKFold(n_splits=5, shuffle=True, random_state=42)\n",
    "\n",
    "# Appliquer la validation croisée\n",
    "scores = cross_val_score(model, X_train, y_train, cv=cv, scoring='accuracy')\n",
    "\n",
    "# Afficher les résultats\n",
    "print(\"Scores de validation croisée :\", scores)\n",
    "print(\"Précision moyenne :\", round(scores.mean(),2))"
   ]
  },
  {
   "cell_type": "code",
   "execution_count": 10,
   "id": "e8ce1738",
   "metadata": {},
   "outputs": [],
   "source": [
    "X_test_with_code = X_test.copy()\n",
    "X_test_with_code['Code'] = data.loc[X_test.index, 'Code',]"
   ]
  },
  {
   "cell_type": "code",
   "execution_count": 18,
   "id": "bcafb201",
   "metadata": {},
   "outputs": [
    {
     "data": {
      "text/html": [
       "<div>\n",
       "<style scoped>\n",
       "    .dataframe tbody tr th:only-of-type {\n",
       "        vertical-align: middle;\n",
       "    }\n",
       "\n",
       "    .dataframe tbody tr th {\n",
       "        vertical-align: top;\n",
       "    }\n",
       "\n",
       "    .dataframe thead th {\n",
       "        text-align: right;\n",
       "    }\n",
       "</style>\n",
       "<table border=\"1\" class=\"dataframe\">\n",
       "  <thead>\n",
       "    <tr style=\"text-align: right;\">\n",
       "      <th></th>\n",
       "      <th>Age</th>\n",
       "      <th>Nbr_cours</th>\n",
       "      <th>Nbr_absences</th>\n",
       "      <th>Sexe</th>\n",
       "      <th>Niveau</th>\n",
       "      <th>Dernier_Diplome</th>\n",
       "      <th>SPE</th>\n",
       "      <th>International</th>\n",
       "      <th>Nationalité</th>\n",
       "      <th>Note_Moy</th>\n",
       "      <th>Boursier</th>\n",
       "      <th>Régime</th>\n",
       "      <th>Annee_entree</th>\n",
       "      <th>Code</th>\n",
       "    </tr>\n",
       "  </thead>\n",
       "  <tbody>\n",
       "    <tr>\n",
       "      <th>172</th>\n",
       "      <td>26</td>\n",
       "      <td>22</td>\n",
       "      <td>1</td>\n",
       "      <td>1</td>\n",
       "      <td>4</td>\n",
       "      <td>5</td>\n",
       "      <td>4</td>\n",
       "      <td>0</td>\n",
       "      <td>0</td>\n",
       "      <td>11.850000</td>\n",
       "      <td>0</td>\n",
       "      <td>1</td>\n",
       "      <td>7</td>\n",
       "      <td>A01277</td>\n",
       "    </tr>\n",
       "    <tr>\n",
       "      <th>137</th>\n",
       "      <td>21</td>\n",
       "      <td>4</td>\n",
       "      <td>1</td>\n",
       "      <td>1</td>\n",
       "      <td>3</td>\n",
       "      <td>1</td>\n",
       "      <td>1</td>\n",
       "      <td>0</td>\n",
       "      <td>1</td>\n",
       "      <td>13.063448</td>\n",
       "      <td>0</td>\n",
       "      <td>2</td>\n",
       "      <td>5</td>\n",
       "      <td>A00915</td>\n",
       "    </tr>\n",
       "    <tr>\n",
       "      <th>126</th>\n",
       "      <td>20</td>\n",
       "      <td>4</td>\n",
       "      <td>1</td>\n",
       "      <td>1</td>\n",
       "      <td>3</td>\n",
       "      <td>1</td>\n",
       "      <td>1</td>\n",
       "      <td>1</td>\n",
       "      <td>0</td>\n",
       "      <td>12.331666</td>\n",
       "      <td>0</td>\n",
       "      <td>2</td>\n",
       "      <td>5</td>\n",
       "      <td>A00921</td>\n",
       "    </tr>\n",
       "    <tr>\n",
       "      <th>94</th>\n",
       "      <td>21</td>\n",
       "      <td>34</td>\n",
       "      <td>1</td>\n",
       "      <td>2</td>\n",
       "      <td>3</td>\n",
       "      <td>1</td>\n",
       "      <td>1</td>\n",
       "      <td>1</td>\n",
       "      <td>0</td>\n",
       "      <td>11.850000</td>\n",
       "      <td>0</td>\n",
       "      <td>2</td>\n",
       "      <td>7</td>\n",
       "      <td>A01494</td>\n",
       "    </tr>\n",
       "    <tr>\n",
       "      <th>72</th>\n",
       "      <td>19</td>\n",
       "      <td>29</td>\n",
       "      <td>3</td>\n",
       "      <td>1</td>\n",
       "      <td>2</td>\n",
       "      <td>1</td>\n",
       "      <td>1</td>\n",
       "      <td>0</td>\n",
       "      <td>1</td>\n",
       "      <td>11.884833</td>\n",
       "      <td>0</td>\n",
       "      <td>2</td>\n",
       "      <td>6</td>\n",
       "      <td>A01030</td>\n",
       "    </tr>\n",
       "    <tr>\n",
       "      <th>...</th>\n",
       "      <td>...</td>\n",
       "      <td>...</td>\n",
       "      <td>...</td>\n",
       "      <td>...</td>\n",
       "      <td>...</td>\n",
       "      <td>...</td>\n",
       "      <td>...</td>\n",
       "      <td>...</td>\n",
       "      <td>...</td>\n",
       "      <td>...</td>\n",
       "      <td>...</td>\n",
       "      <td>...</td>\n",
       "      <td>...</td>\n",
       "      <td>...</td>\n",
       "    </tr>\n",
       "    <tr>\n",
       "      <th>317</th>\n",
       "      <td>22</td>\n",
       "      <td>28</td>\n",
       "      <td>3</td>\n",
       "      <td>1</td>\n",
       "      <td>5</td>\n",
       "      <td>1</td>\n",
       "      <td>5</td>\n",
       "      <td>0</td>\n",
       "      <td>1</td>\n",
       "      <td>12.163250</td>\n",
       "      <td>0</td>\n",
       "      <td>2</td>\n",
       "      <td>3</td>\n",
       "      <td>A00729</td>\n",
       "    </tr>\n",
       "    <tr>\n",
       "      <th>396</th>\n",
       "      <td>24</td>\n",
       "      <td>31</td>\n",
       "      <td>1</td>\n",
       "      <td>2</td>\n",
       "      <td>5</td>\n",
       "      <td>1</td>\n",
       "      <td>4</td>\n",
       "      <td>0</td>\n",
       "      <td>1</td>\n",
       "      <td>15.961250</td>\n",
       "      <td>0</td>\n",
       "      <td>2</td>\n",
       "      <td>3</td>\n",
       "      <td>A00751</td>\n",
       "    </tr>\n",
       "    <tr>\n",
       "      <th>305</th>\n",
       "      <td>24</td>\n",
       "      <td>31</td>\n",
       "      <td>15</td>\n",
       "      <td>1</td>\n",
       "      <td>5</td>\n",
       "      <td>1</td>\n",
       "      <td>4</td>\n",
       "      <td>0</td>\n",
       "      <td>1</td>\n",
       "      <td>12.483333</td>\n",
       "      <td>0</td>\n",
       "      <td>1</td>\n",
       "      <td>6</td>\n",
       "      <td>A01084</td>\n",
       "    </tr>\n",
       "    <tr>\n",
       "      <th>60</th>\n",
       "      <td>19</td>\n",
       "      <td>29</td>\n",
       "      <td>4</td>\n",
       "      <td>1</td>\n",
       "      <td>2</td>\n",
       "      <td>1</td>\n",
       "      <td>1</td>\n",
       "      <td>0</td>\n",
       "      <td>1</td>\n",
       "      <td>10.337500</td>\n",
       "      <td>0</td>\n",
       "      <td>2</td>\n",
       "      <td>6</td>\n",
       "      <td>A01021</td>\n",
       "    </tr>\n",
       "    <tr>\n",
       "      <th>79</th>\n",
       "      <td>19</td>\n",
       "      <td>29</td>\n",
       "      <td>1</td>\n",
       "      <td>1</td>\n",
       "      <td>2</td>\n",
       "      <td>1</td>\n",
       "      <td>1</td>\n",
       "      <td>0</td>\n",
       "      <td>1</td>\n",
       "      <td>12.690666</td>\n",
       "      <td>0</td>\n",
       "      <td>2</td>\n",
       "      <td>6</td>\n",
       "      <td>A00989</td>\n",
       "    </tr>\n",
       "  </tbody>\n",
       "</table>\n",
       "<p>123 rows × 14 columns</p>\n",
       "</div>"
      ],
      "text/plain": [
       "     Age  Nbr_cours  Nbr_absences  Sexe  Niveau  Dernier_Diplome  SPE  \\\n",
       "172   26         22             1     1       4                5    4   \n",
       "137   21          4             1     1       3                1    1   \n",
       "126   20          4             1     1       3                1    1   \n",
       "94    21         34             1     2       3                1    1   \n",
       "72    19         29             3     1       2                1    1   \n",
       "..   ...        ...           ...   ...     ...              ...  ...   \n",
       "317   22         28             3     1       5                1    5   \n",
       "396   24         31             1     2       5                1    4   \n",
       "305   24         31            15     1       5                1    4   \n",
       "60    19         29             4     1       2                1    1   \n",
       "79    19         29             1     1       2                1    1   \n",
       "\n",
       "     International  Nationalité   Note_Moy  Boursier  Régime  Annee_entree  \\\n",
       "172              0            0  11.850000         0       1             7   \n",
       "137              0            1  13.063448         0       2             5   \n",
       "126              1            0  12.331666         0       2             5   \n",
       "94               1            0  11.850000         0       2             7   \n",
       "72               0            1  11.884833         0       2             6   \n",
       "..             ...          ...        ...       ...     ...           ...   \n",
       "317              0            1  12.163250         0       2             3   \n",
       "396              0            1  15.961250         0       2             3   \n",
       "305              0            1  12.483333         0       1             6   \n",
       "60               0            1  10.337500         0       2             6   \n",
       "79               0            1  12.690666         0       2             6   \n",
       "\n",
       "       Code  \n",
       "172  A01277  \n",
       "137  A00915  \n",
       "126  A00921  \n",
       "94   A01494  \n",
       "72   A01030  \n",
       "..      ...  \n",
       "317  A00729  \n",
       "396  A00751  \n",
       "305  A01084  \n",
       "60   A01021  \n",
       "79   A00989  \n",
       "\n",
       "[123 rows x 14 columns]"
      ]
     },
     "execution_count": 18,
     "metadata": {},
     "output_type": "execute_result"
    }
   ],
   "source": [
    "X_test_with_code"
   ]
  },
  {
   "cell_type": "code",
   "execution_count": 49,
   "id": "09405e24",
   "metadata": {},
   "outputs": [
    {
     "name": "stdout",
     "output_type": "stream",
     "text": [
      "Le SMS a été transmis avec succès. ✅\n"
     ]
    }
   ],
   "source": [
    "from twilio.rest import Client\n",
    "\n",
    "def envoyer_sms(destinataire, message, objet_sms=\"Alerte\", icone_avertissement=\"⚠️\"):\n",
    "    # Vos identifiants Twilio\n",
    "    account_sid = 'ACa3644554a4c51726e7ca9d4db19767d1'\n",
    "    auth_token = '4c7e26990d337f0a7de4808d102ce153'\n",
    "\n",
    "    # Initialiser le client Twilio\n",
    "    client = Client(account_sid, auth_token)\n",
    "\n",
    "    # Ajouter l'icône d'avertissement et l'objet au message\n",
    "    message_avec_objet = f\"{icone_avertissement} {objet_sms}\\n\\n{message}\"\n",
    "\n",
    "    # Envoyer le message SMS\n",
    "    message_twilio = client.messages.create(\n",
    "        body=message_avec_objet,\n",
    "        from_='+14845145127',\n",
    "        to=destinataire\n",
    "    )\n",
    "\n",
    "    print(\"Le SMS a été transmis avec succès. ✅\")\n",
    "\n",
    "# Exemple d'utilisation\n",
    "def notifier_risque(y_pred, X_test_with_code):\n",
    "    # Générer des notifications en cas de risque détecté\n",
    "    if 1 in y_pred:\n",
    "        codes_risque = X_test_with_code.loc[X_test_with_code.index[y_pred == 1], 'Code']\n",
    "        codes_texte = ', '.join(map(str, codes_risque))\n",
    "        destinataire = '+33745402573'  # Remplacez par le numéro de téléphone du destinataire\n",
    "        message_sms = f'Risque de décrochage détecté pour les identifiants suivants : {codes_texte}.'\n",
    "        envoyer_sms(destinataire, message_sms, objet_sms=\"Urgent\", icone_avertissement=\"⚠️\")\n",
    "    else:\n",
    "        destinataire = '+33745402573'  # Remplacez par le numéro de téléphone du destinataire\n",
    "        message_pas_de_risque = 'Pas de risque de décrochage. 😊'\n",
    "        envoyer_sms(destinataire, message_pas_de_risque, objet_sms=\"Info\", icone_avertissement=\"😊\")\n",
    "\n",
    "# Exemple d'utilisation\n",
    "# Supposons que y_pred soit une liste binaire indiquant les prédictions de risque\n",
    "# et X_test_with_code est votre DataFrame avec la colonne 'Code'\n",
    "notifier_risque(y_pred, X_test_with_code)"
   ]
  },
  {
   "cell_type": "code",
   "execution_count": null,
   "id": "61ade60c",
   "metadata": {},
   "outputs": [],
   "source": []
  }
 ],
 "metadata": {
  "kernelspec": {
   "display_name": "Python 3 (ipykernel)",
   "language": "python",
   "name": "python3"
  },
  "language_info": {
   "codemirror_mode": {
    "name": "ipython",
    "version": 3
   },
   "file_extension": ".py",
   "mimetype": "text/x-python",
   "name": "python",
   "nbconvert_exporter": "python",
   "pygments_lexer": "ipython3",
   "version": "3.11.5"
  }
 },
 "nbformat": 4,
 "nbformat_minor": 5
}
